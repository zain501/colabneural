{
  "nbformat": 4,
  "nbformat_minor": 0,
  "metadata": {
    "colab": {
      "provenance": [],
      "gpuType": "T4",
      "authorship_tag": "ABX9TyP17jGrgNt1iet+ZkuJ8+tn",
      "include_colab_link": true
    },
    "kernelspec": {
      "name": "python3",
      "display_name": "Python 3"
    },
    "language_info": {
      "name": "python"
    },
    "accelerator": "GPU"
  },
  "cells": [
    {
      "cell_type": "markdown",
      "metadata": {
        "id": "view-in-github",
        "colab_type": "text"
      },
      "source": [
        "<a href=\"https://colab.research.google.com/github/zain501/colabneural/blob/main/draft2.ipynb\" target=\"_parent\"><img src=\"https://colab.research.google.com/assets/colab-badge.svg\" alt=\"Open In Colab\"/></a>"
      ]
    },
    {
      "cell_type": "code",
      "execution_count": 1,
      "metadata": {
        "colab": {
          "base_uri": "https://localhost:8080/"
        },
        "id": "_zqLDYbjrBwL",
        "outputId": "9a8baa4f-7a09-4ad1-ea37-469135482177"
      },
      "outputs": [
        {
          "output_type": "stream",
          "name": "stdout",
          "text": [
            "Num GPUs Available:  1\n"
          ]
        }
      ],
      "source": [
        "import pandas as pd\n",
        "import numpy as np\n",
        "import tensorflow as tf\n",
        "from sklearn.model_selection import train_test_split\n",
        "from imblearn.combine import SMOTEENN\n",
        "from sklearn.preprocessing import MinMaxScaler\n",
        "from tensorflow.keras.layers import Dense, Dropout, Normalization\n",
        "from tensorflow.keras.models import Sequential\n",
        "from tensorflow.keras.regularizers import l2\n",
        "from collections import Counter\n",
        "from tensorflow.keras.optimizers.schedules import ExponentialDecay\n",
        "from tensorflow.keras.optimizers import Adam\n",
        "import random as python_random\n",
        "import matplotlib.pyplot as plt\n",
        "from sklearn.metrics import confusion_matrix\n",
        "print(\"Num GPUs Available: \", len(tf.config.list_physical_devices('GPU')))"
      ]
    },
    {
      "cell_type": "code",
      "source": [
        "# Set seed for reproducibility\n",
        "np.random.seed(42)\n",
        "python_random.seed(42)\n",
        "tf.random.set_seed(42)\n",
        "\n",
        "# Load data\n",
        "data = pd.read_excel('cleaned_data_23.xlsx')\n",
        "data['zip_code'] = data['zip_code'].str.extract(r'(\\d+)').astype(int)\n",
        "\n",
        "# Prepare features and labels\n",
        "features = data.drop(columns=['loan_is_bad']).values\n",
        "labels = data['loan_is_bad'].values\n",
        "\n",
        "# Since we need to use SMOTEENN, let's split using sklearn (could use TensorFlow but keeping as is for SMOTEENN compatibility)\n",
        "X_train, X_test, y_train, y_test = train_test_split(features, labels, test_size=0.2, random_state=42)\n",
        "\n",
        "# Normalize features - TensorFlow's Normalization layer expects batches, so we normalize using sklearn here for simplicity\n",
        "# Normalize all features in X_train for SMOTEENN application\n",
        "normalizer = Normalization(axis=-1)  # Normalizes along the features axis\n",
        "normalizer.adapt(X_train)  # Adapt to the training data\n",
        "\n",
        "# Apply normalization to X_train and X_test\n",
        "X_train_normalized = normalizer(X_train)\n",
        "X_test_normalized = normalizer(X_test)\n",
        "\n",
        "# Apply SMOTEENN for both over-sampling and under-sampling on the scaled training data\n",
        "smote_enn = SMOTEENN(random_state=42)\n",
        "X_resampled, y_resampled = smote_enn.fit_resample(X_train_normalized, y_train) #bothsampling on the training set for both the features and the label\n",
        "\n",
        "# Convert the resampled data back into TensorFlow Datasets\n",
        "train_dataset = tf.data.Dataset.from_tensor_slices((X_resampled, y_resampled)).batch(64)\n",
        "test_dataset = tf.data.Dataset.from_tensor_slices((X_test_normalized, y_test)).batch(64) # test set only normalised for the features and label remain unchanged\n"
      ],
      "metadata": {
        "id": "2gmcvhC1rnh-"
      },
      "execution_count": 2,
      "outputs": []
    },
    {
      "cell_type": "code",
      "source": [
        "# Initial learning rate\n",
        "initial_learning_rate = 0.001\n",
        "\n",
        "# Define the learning rate schedule. Adjust the parameters as needed.\n",
        "lr_schedule = ExponentialDecay(\n",
        "    initial_learning_rate=initial_learning_rate,\n",
        "    decay_steps=1000,\n",
        "    decay_rate=0.96,\n",
        "    staircase=True)\n",
        "\n",
        "# Use the learning rate schedule in the optimizer.\n",
        "optimizer = Adam(learning_rate=lr_schedule)\n",
        "\n",
        "# Model definition\n",
        "model = Sequential([\n",
        "    Dense(64, activation='relu', kernel_regularizer=l2(0.001), input_shape=(X_resampled.shape[1],)),\n",
        "    Dropout(0.5),\n",
        "    Dense(32, activation='relu', kernel_regularizer=l2(0.001)),\n",
        "    Dropout(0.5),\n",
        "    Dense(16, activation='relu', kernel_regularizer=l2(0.001)),\n",
        "    Dense(1, activation='sigmoid')\n",
        "])\n",
        "\n",
        "# Compile the model\n",
        "model.compile(optimizer=optimizer,\n",
        "              loss='binary_crossentropy',\n",
        "              metrics=['accuracy', tf.keras.metrics.Precision(), tf.keras.metrics.Recall(), tf.keras.metrics.FalseNegatives()])\n"
      ],
      "metadata": {
        "id": "4znKwHQ3sO-q"
      },
      "execution_count": 3,
      "outputs": []
    },
    {
      "cell_type": "code",
      "source": [
        "# Train the model\n",
        "history = model.fit(train_dataset, epochs=100, validation_data=test_dataset)\n",
        "\n",
        "# Model evaluation\n",
        "evaluation = model.evaluate(test_dataset)\n",
        "\n",
        "# Extract and print metrics\n",
        "accuracy, precision, recall, fn = evaluation[1], evaluation[2], evaluation[3], evaluation[4]\n",
        "print(f'Accuracy: {accuracy:.4f}, Precision: {precision:.4f}, Recall: {recall:.4f}, False Negatives: {fn}')\n"
      ],
      "metadata": {
        "colab": {
          "base_uri": "https://localhost:8080/"
        },
        "id": "A4w1Lzr9sV0U",
        "outputId": "72731e97-f821-4a19-a4f6-4d84ed76a29e"
      },
      "execution_count": null,
      "outputs": [
        {
          "output_type": "stream",
          "name": "stdout",
          "text": [
            "Epoch 1/100\n",
            "913/913 [==============================] - 12s 5ms/step - loss: 0.1901 - accuracy: 0.9696 - precision: 0.9890 - recall: 0.9568 - false_negatives: 1423.0000 - val_loss: 9.2077 - val_accuracy: 0.1502 - val_precision: 0.1502 - val_recall: 1.0000 - val_false_negatives: 0.0000e+00\n",
            "Epoch 2/100\n",
            "913/913 [==============================] - 5s 5ms/step - loss: 0.2845 - accuracy: 0.9385 - precision: 0.9440 - recall: 0.9471 - false_negatives: 1741.0000 - val_loss: 3.0177 - val_accuracy: 0.3322 - val_precision: 0.1836 - val_recall: 0.9993 - val_false_negatives: 1.0000\n",
            "Epoch 3/100\n",
            "913/913 [==============================] - 4s 5ms/step - loss: 0.1523 - accuracy: 0.9681 - precision: 0.9702 - recall: 0.9733 - false_negatives: 878.0000 - val_loss: 2.5397 - val_accuracy: 0.4230 - val_precision: 0.2065 - val_recall: 0.9993 - val_false_negatives: 1.0000\n",
            "Epoch 4/100\n",
            "913/913 [==============================] - 6s 6ms/step - loss: 0.1134 - accuracy: 0.9785 - precision: 0.9804 - recall: 0.9816 - false_negatives: 607.0000 - val_loss: 2.3520 - val_accuracy: 0.4301 - val_precision: 0.2085 - val_recall: 0.9993 - val_false_negatives: 1.0000\n",
            "Epoch 5/100\n",
            "913/913 [==============================] - 4s 5ms/step - loss: 0.0974 - accuracy: 0.9808 - precision: 0.9826 - recall: 0.9833 - false_negatives: 550.0000 - val_loss: 2.2340 - val_accuracy: 0.4188 - val_precision: 0.2053 - val_recall: 0.9993 - val_false_negatives: 1.0000\n",
            "Epoch 6/100\n",
            "913/913 [==============================] - 5s 5ms/step - loss: 0.0878 - accuracy: 0.9833 - precision: 0.9844 - recall: 0.9860 - false_negatives: 462.0000 - val_loss: 2.1774 - val_accuracy: 0.4234 - val_precision: 0.2066 - val_recall: 0.9993 - val_false_negatives: 1.0000\n",
            "Epoch 7/100\n",
            "913/913 [==============================] - 5s 6ms/step - loss: 0.0802 - accuracy: 0.9846 - precision: 0.9859 - recall: 0.9867 - false_negatives: 437.0000 - val_loss: 2.2479 - val_accuracy: 0.4255 - val_precision: 0.2071 - val_recall: 0.9987 - val_false_negatives: 2.0000\n",
            "Epoch 8/100\n",
            "913/913 [==============================] - 5s 5ms/step - loss: 0.0779 - accuracy: 0.9846 - precision: 0.9869 - recall: 0.9858 - false_negatives: 467.0000 - val_loss: 2.2771 - val_accuracy: 0.3941 - val_precision: 0.1987 - val_recall: 1.0000 - val_false_negatives: 0.0000e+00\n",
            "Epoch 9/100\n",
            "913/913 [==============================] - 6s 6ms/step - loss: 0.0785 - accuracy: 0.9847 - precision: 0.9860 - recall: 0.9869 - false_negatives: 433.0000 - val_loss: 2.1663 - val_accuracy: 0.4311 - val_precision: 0.2088 - val_recall: 0.9987 - val_false_negatives: 2.0000\n",
            "Epoch 10/100\n",
            "913/913 [==============================] - 4s 5ms/step - loss: 0.0755 - accuracy: 0.9854 - precision: 0.9869 - recall: 0.9873 - false_negatives: 419.0000 - val_loss: 2.0647 - val_accuracy: 0.4515 - val_precision: 0.2149 - val_recall: 0.9987 - val_false_negatives: 2.0000\n",
            "Epoch 11/100\n",
            "913/913 [==============================] - 5s 6ms/step - loss: 0.0738 - accuracy: 0.9852 - precision: 0.9868 - recall: 0.9870 - false_negatives: 428.0000 - val_loss: 2.0407 - val_accuracy: 0.4393 - val_precision: 0.2112 - val_recall: 0.9987 - val_false_negatives: 2.0000\n",
            "Epoch 12/100\n",
            "913/913 [==============================] - 4s 5ms/step - loss: 0.0741 - accuracy: 0.9847 - precision: 0.9865 - recall: 0.9863 - false_negatives: 452.0000 - val_loss: 1.9010 - val_accuracy: 0.4334 - val_precision: 0.2096 - val_recall: 1.0000 - val_false_negatives: 0.0000e+00\n",
            "Epoch 13/100\n",
            "913/913 [==============================] - 5s 5ms/step - loss: 0.0720 - accuracy: 0.9853 - precision: 0.9870 - recall: 0.9869 - false_negatives: 433.0000 - val_loss: 1.7767 - val_accuracy: 0.4803 - val_precision: 0.2240 - val_recall: 0.9980 - val_false_negatives: 3.0000\n",
            "Epoch 14/100\n",
            "913/913 [==============================] - 5s 6ms/step - loss: 0.0681 - accuracy: 0.9864 - precision: 0.9883 - recall: 0.9876 - false_negatives: 407.0000 - val_loss: 1.9777 - val_accuracy: 0.4635 - val_precision: 0.2186 - val_recall: 0.9987 - val_false_negatives: 2.0000\n",
            "Epoch 15/100\n",
            "913/913 [==============================] - 5s 6ms/step - loss: 0.0706 - accuracy: 0.9859 - precision: 0.9879 - recall: 0.9871 - false_negatives: 424.0000 - val_loss: 1.7286 - val_accuracy: 0.4816 - val_precision: 0.2245 - val_recall: 0.9980 - val_false_negatives: 3.0000\n",
            "Epoch 16/100\n",
            "913/913 [==============================] - 5s 6ms/step - loss: 0.0686 - accuracy: 0.9858 - precision: 0.9878 - recall: 0.9869 - false_negatives: 431.0000 - val_loss: 1.7007 - val_accuracy: 0.4963 - val_precision: 0.2295 - val_recall: 0.9980 - val_false_negatives: 3.0000\n",
            "Epoch 17/100\n",
            "913/913 [==============================] - 5s 5ms/step - loss: 0.0672 - accuracy: 0.9858 - precision: 0.9878 - recall: 0.9871 - false_negatives: 426.0000 - val_loss: 1.7863 - val_accuracy: 0.4894 - val_precision: 0.2272 - val_recall: 0.9987 - val_false_negatives: 2.0000\n",
            "Epoch 18/100\n",
            "913/913 [==============================] - 5s 5ms/step - loss: 0.0692 - accuracy: 0.9858 - precision: 0.9879 - recall: 0.9870 - false_negatives: 429.0000 - val_loss: 1.5745 - val_accuracy: 0.5194 - val_precision: 0.2378 - val_recall: 0.9973 - val_false_negatives: 4.0000\n",
            "Epoch 19/100\n",
            "913/913 [==============================] - 5s 5ms/step - loss: 0.0673 - accuracy: 0.9863 - precision: 0.9884 - recall: 0.9873 - false_negatives: 418.0000 - val_loss: 1.6249 - val_accuracy: 0.5112 - val_precision: 0.2348 - val_recall: 0.9973 - val_false_negatives: 4.0000\n",
            "Epoch 20/100\n",
            "913/913 [==============================] - 5s 5ms/step - loss: 0.0670 - accuracy: 0.9864 - precision: 0.9880 - recall: 0.9878 - false_negatives: 402.0000 - val_loss: 1.5741 - val_accuracy: 0.5205 - val_precision: 0.2382 - val_recall: 0.9973 - val_false_negatives: 4.0000\n",
            "Epoch 21/100\n",
            "913/913 [==============================] - 6s 6ms/step - loss: 0.0648 - accuracy: 0.9864 - precision: 0.9882 - recall: 0.9878 - false_negatives: 403.0000 - val_loss: 1.6094 - val_accuracy: 0.5193 - val_precision: 0.2378 - val_recall: 0.9973 - val_false_negatives: 4.0000\n",
            "Epoch 22/100\n",
            "913/913 [==============================] - 5s 5ms/step - loss: 0.0659 - accuracy: 0.9861 - precision: 0.9881 - recall: 0.9872 - false_negatives: 420.0000 - val_loss: 1.5379 - val_accuracy: 0.5291 - val_precision: 0.2416 - val_recall: 0.9973 - val_false_negatives: 4.0000\n",
            "Epoch 23/100\n",
            "913/913 [==============================] - 5s 5ms/step - loss: 0.0648 - accuracy: 0.9862 - precision: 0.9884 - recall: 0.9871 - false_negatives: 424.0000 - val_loss: 1.5457 - val_accuracy: 0.5300 - val_precision: 0.2420 - val_recall: 0.9980 - val_false_negatives: 3.0000\n",
            "Epoch 24/100\n",
            "913/913 [==============================] - 4s 5ms/step - loss: 0.0659 - accuracy: 0.9861 - precision: 0.9882 - recall: 0.9872 - false_negatives: 423.0000 - val_loss: 1.4661 - val_accuracy: 0.5466 - val_precision: 0.2485 - val_recall: 0.9967 - val_false_negatives: 5.0000\n",
            "Epoch 25/100\n",
            "913/913 [==============================] - 5s 5ms/step - loss: 0.0641 - accuracy: 0.9866 - precision: 0.9892 - recall: 0.9871 - false_negatives: 426.0000 - val_loss: 1.4523 - val_accuracy: 0.5417 - val_precision: 0.2466 - val_recall: 0.9973 - val_false_negatives: 4.0000\n",
            "Epoch 26/100\n",
            "913/913 [==============================] - 5s 6ms/step - loss: 0.0653 - accuracy: 0.9863 - precision: 0.9887 - recall: 0.9869 - false_negatives: 430.0000 - val_loss: 1.3668 - val_accuracy: 0.5542 - val_precision: 0.2516 - val_recall: 0.9960 - val_false_negatives: 6.0000\n",
            "Epoch 27/100\n",
            "913/913 [==============================] - 5s 5ms/step - loss: 0.0635 - accuracy: 0.9866 - precision: 0.9889 - recall: 0.9873 - false_negatives: 419.0000 - val_loss: 1.4182 - val_accuracy: 0.5468 - val_precision: 0.2485 - val_recall: 0.9967 - val_false_negatives: 5.0000\n",
            "Epoch 28/100\n",
            "913/913 [==============================] - 5s 5ms/step - loss: 0.0652 - accuracy: 0.9863 - precision: 0.9884 - recall: 0.9872 - false_negatives: 420.0000 - val_loss: 1.3889 - val_accuracy: 0.5542 - val_precision: 0.2516 - val_recall: 0.9960 - val_false_negatives: 6.0000\n",
            "Epoch 29/100\n",
            "913/913 [==============================] - 5s 5ms/step - loss: 0.0647 - accuracy: 0.9861 - precision: 0.9884 - recall: 0.9869 - false_negatives: 430.0000 - val_loss: 1.3798 - val_accuracy: 0.5627 - val_precision: 0.2552 - val_recall: 0.9960 - val_false_negatives: 6.0000\n",
            "Epoch 30/100\n",
            "913/913 [==============================] - 5s 6ms/step - loss: 0.0659 - accuracy: 0.9860 - precision: 0.9883 - recall: 0.9869 - false_negatives: 430.0000 - val_loss: 1.2757 - val_accuracy: 0.5824 - val_precision: 0.2640 - val_recall: 0.9953 - val_false_negatives: 7.0000\n",
            "Epoch 31/100\n",
            "913/913 [==============================] - 4s 5ms/step - loss: 0.0657 - accuracy: 0.9860 - precision: 0.9886 - recall: 0.9866 - false_negatives: 443.0000 - val_loss: 1.2208 - val_accuracy: 0.5926 - val_precision: 0.2688 - val_recall: 0.9953 - val_false_negatives: 7.0000\n",
            "Epoch 32/100\n",
            "913/913 [==============================] - 6s 6ms/step - loss: 0.0647 - accuracy: 0.9864 - precision: 0.9888 - recall: 0.9870 - false_negatives: 427.0000 - val_loss: 1.2355 - val_accuracy: 0.5971 - val_precision: 0.2710 - val_recall: 0.9953 - val_false_negatives: 7.0000\n",
            "Epoch 33/100\n",
            "913/913 [==============================] - 5s 5ms/step - loss: 0.0652 - accuracy: 0.9861 - precision: 0.9888 - recall: 0.9866 - false_negatives: 440.0000 - val_loss: 1.2228 - val_accuracy: 0.5950 - val_precision: 0.2700 - val_recall: 0.9953 - val_false_negatives: 7.0000\n",
            "Epoch 34/100\n",
            "913/913 [==============================] - 4s 5ms/step - loss: 0.0662 - accuracy: 0.9853 - precision: 0.9881 - recall: 0.9858 - false_negatives: 467.0000 - val_loss: 1.1613 - val_accuracy: 0.6054 - val_precision: 0.2752 - val_recall: 0.9953 - val_false_negatives: 7.0000\n",
            "Epoch 35/100\n",
            "913/913 [==============================] - 5s 5ms/step - loss: 0.0651 - accuracy: 0.9855 - precision: 0.9887 - recall: 0.9857 - false_negatives: 472.0000 - val_loss: 1.1477 - val_accuracy: 0.6013 - val_precision: 0.2731 - val_recall: 0.9953 - val_false_negatives: 7.0000\n",
            "Epoch 36/100\n",
            "913/913 [==============================] - 5s 5ms/step - loss: 0.0653 - accuracy: 0.9852 - precision: 0.9880 - recall: 0.9858 - false_negatives: 467.0000 - val_loss: 1.1016 - val_accuracy: 0.6184 - val_precision: 0.2819 - val_recall: 0.9953 - val_false_negatives: 7.0000\n",
            "Epoch 37/100\n",
            "913/913 [==============================] - 5s 6ms/step - loss: 0.0640 - accuracy: 0.9861 - precision: 0.9890 - recall: 0.9864 - false_negatives: 448.0000 - val_loss: 1.0925 - val_accuracy: 0.6199 - val_precision: 0.2827 - val_recall: 0.9953 - val_false_negatives: 7.0000\n",
            "Epoch 38/100\n",
            "913/913 [==============================] - 5s 6ms/step - loss: 0.0653 - accuracy: 0.9857 - precision: 0.9889 - recall: 0.9857 - false_negatives: 472.0000 - val_loss: 1.0803 - val_accuracy: 0.6199 - val_precision: 0.2827 - val_recall: 0.9953 - val_false_negatives: 7.0000\n",
            "Epoch 39/100\n",
            "913/913 [==============================] - 5s 6ms/step - loss: 0.0657 - accuracy: 0.9854 - precision: 0.9883 - recall: 0.9858 - false_negatives: 468.0000 - val_loss: 0.9793 - val_accuracy: 0.6441 - val_precision: 0.2962 - val_recall: 0.9947 - val_false_negatives: 8.0000\n",
            "Epoch 40/100\n",
            "913/913 [==============================] - 4s 5ms/step - loss: 0.0654 - accuracy: 0.9854 - precision: 0.9886 - recall: 0.9855 - false_negatives: 479.0000 - val_loss: 0.9875 - val_accuracy: 0.6402 - val_precision: 0.2940 - val_recall: 0.9953 - val_false_negatives: 7.0000\n",
            "Epoch 41/100\n",
            "913/913 [==============================] - 4s 5ms/step - loss: 0.0647 - accuracy: 0.9855 - precision: 0.9883 - recall: 0.9859 - false_negatives: 463.0000 - val_loss: 0.9779 - val_accuracy: 0.6509 - val_precision: 0.3003 - val_recall: 0.9953 - val_false_negatives: 7.0000\n",
            "Epoch 42/100\n",
            "913/913 [==============================] - 5s 5ms/step - loss: 0.0643 - accuracy: 0.9854 - precision: 0.9887 - recall: 0.9854 - false_negatives: 481.0000 - val_loss: 0.9535 - val_accuracy: 0.6511 - val_precision: 0.3004 - val_recall: 0.9953 - val_false_negatives: 7.0000\n",
            "Epoch 43/100\n",
            "913/913 [==============================] - 5s 5ms/step - loss: 0.0657 - accuracy: 0.9848 - precision: 0.9881 - recall: 0.9849 - false_negatives: 496.0000 - val_loss: 0.9230 - val_accuracy: 0.6570 - val_precision: 0.3041 - val_recall: 0.9953 - val_false_negatives: 7.0000\n",
            "Epoch 44/100\n",
            "913/913 [==============================] - 5s 6ms/step - loss: 0.0657 - accuracy: 0.9845 - precision: 0.9879 - recall: 0.9846 - false_negatives: 507.0000 - val_loss: 0.8884 - val_accuracy: 0.6721 - val_precision: 0.3136 - val_recall: 0.9947 - val_false_negatives: 8.0000\n",
            "Epoch 45/100\n",
            "913/913 [==============================] - 5s 5ms/step - loss: 0.0665 - accuracy: 0.9849 - precision: 0.9881 - recall: 0.9851 - false_negatives: 490.0000 - val_loss: 0.8574 - val_accuracy: 0.6829 - val_precision: 0.3208 - val_recall: 0.9940 - val_false_negatives: 9.0000\n",
            "Epoch 46/100\n",
            "913/913 [==============================] - 5s 6ms/step - loss: 0.0660 - accuracy: 0.9845 - precision: 0.9882 - recall: 0.9843 - false_negatives: 518.0000 - val_loss: 0.8329 - val_accuracy: 0.6863 - val_precision: 0.3232 - val_recall: 0.9947 - val_false_negatives: 8.0000\n",
            "Epoch 47/100\n",
            "913/913 [==============================] - 5s 5ms/step - loss: 0.0672 - accuracy: 0.9844 - precision: 0.9877 - recall: 0.9847 - false_negatives: 505.0000 - val_loss: 0.7845 - val_accuracy: 0.6941 - val_precision: 0.3288 - val_recall: 0.9947 - val_false_negatives: 8.0000\n",
            "Epoch 48/100\n",
            "913/913 [==============================] - 5s 6ms/step - loss: 0.0655 - accuracy: 0.9851 - precision: 0.9889 - recall: 0.9847 - false_negatives: 505.0000 - val_loss: 0.8112 - val_accuracy: 0.6911 - val_precision: 0.3265 - val_recall: 0.9940 - val_false_negatives: 9.0000\n"
          ]
        }
      ]
    },
    {
      "cell_type": "code",
      "source": [
        "# Plotting the training and validation loss curves\n",
        "plt.plot(history.history['loss'], label='Training Loss')\n",
        "plt.plot(history.history['val_loss'], label='Validation Loss')\n",
        "plt.title('Training and Validation Loss Curves')\n",
        "plt.xlabel('Epoch')\n",
        "plt.ylabel('Loss')\n",
        "plt.legend()\n",
        "plt.show()\n"
      ],
      "metadata": {
        "id": "xNPu6nWrsZJg"
      },
      "execution_count": null,
      "outputs": []
    },
    {
      "cell_type": "code",
      "source": [
        "# Lower epoch higher false negative cases.\n",
        "# Generate predictions for the confusion matrix and FNR calculation\n",
        "predictions = model.predict(X_test_normalized)\n",
        "predicted_classes = (predictions > 0.5).astype(int)\n",
        "\n",
        "# Generate confusion matrix\n",
        "cm = confusion_matrix(y_test, predicted_classes)\n",
        "\n",
        "# Calculate True Positives (TP) and False Negatives (FN)\n",
        "TP = cm[1, 1]\n",
        "FN = cm[1, 0]\n",
        "\n",
        "# Calculate and print False Negative Rate (FNR)\n",
        "FNR = FN / (FN + TP)\n",
        "print(f'False Negative Rate (Miss Rate): {FNR:.4f}')\n"
      ],
      "metadata": {
        "id": "jy3KZtH2sdm8"
      },
      "execution_count": null,
      "outputs": []
    }
  ]
}